{
 "cells": [
  {
   "cell_type": "code",
   "execution_count": 174,
   "metadata": {},
   "outputs": [],
   "source": [
    "import random\n",
    "import simpy\n",
    "import functools\n",
    "import numpy as np\n",
    "import matplotlib.pyplot as plt\n",
    "import scipy.stats"
   ]
  },
  {
   "cell_type": "markdown",
   "metadata": {},
   "source": [
    "# Demo 3: First few blocks copied and modified from demo 2."
   ]
  },
  {
   "cell_type": "code",
   "execution_count": 152,
   "metadata": {},
   "outputs": [],
   "source": [
    "class PatientGenerator(object):\n",
    "    '''\n",
    "    Generates patients.\n",
    "    '''\n",
    "    def __init__(self, env, hospital, arr_interval_func, prep_time_func, op_time_func, rec_time_func):\n",
    "        self.env = env\n",
    "        self.arr_interval_func = arr_interval_func\n",
    "        self.patient_id = 0\n",
    "        self.hospital = hospital\n",
    "        self.prep_time_func = prep_time_func\n",
    "        self.op_time_func = op_time_func\n",
    "        self.rec_time_func = rec_time_func\n",
    "        self.action = env.process(self.run())\n",
    "        \n",
    "    def run(self):\n",
    "        while True:\n",
    "            # print('before')\n",
    "            time = np.round(self.arr_interval_func(), 1)\n",
    "            # print(time)\n",
    "            yield self.env.timeout(time)\n",
    "            # print('after')\n",
    "            self.patient_id += 1\n",
    "            self.hospital.patients_generated += 1\n",
    "            # print(f'Patient number {self.patient_id} arrived at time {self.env.now}')\n",
    "            # print(self.hospital.situation())\n",
    "            patient = Patient(self.patient_id, \n",
    "                              self.env.now,\n",
    "                              self.prep_time_func,\n",
    "                              self.op_time_func,\n",
    "                              self.rec_time_func)\n",
    "            self.hospital.put(patient, 0)"
   ]
  },
  {
   "cell_type": "code",
   "execution_count": 50,
   "metadata": {},
   "outputs": [],
   "source": [
    "class Patient(object):\n",
    "    '''\n",
    "    Patient keeps track of arrival times to different places and idle times.\n",
    "    '''\n",
    "    def __init__(self, patient_id, arrival_time, prep_time_func, op_time_func, rec_time_func):\n",
    "        self.patient_id = patient_id\n",
    "        self.idle_time = 0\n",
    "        self.prep_time = np.round(prep_time_func(), 1)\n",
    "        self.op_time = np.round(op_time_func(), 1)\n",
    "        self.rec_time = np.round(rec_time_func(), 1)"
   ]
  },
  {
   "cell_type": "code",
   "execution_count": 131,
   "metadata": {},
   "outputs": [],
   "source": [
    "class Room(object):\n",
    "    '''\n",
    "    Room keeps track of its own usage and throughput.\n",
    "    '''\n",
    "    def __init__(self, hospital, env, capacity, name, index):\n",
    "        # print('room init')\n",
    "        self.hospital = hospital\n",
    "        self.env = env\n",
    "        self.capacity = capacity\n",
    "        self.patients_taken = 0\n",
    "        self.patients_processed = 0\n",
    "        self.active_time = 0\n",
    "        # self.out = hospital.rooms[index + 1]\n",
    "        # self.unit = simpy.Resource(env, capacity)\n",
    "        self.id = index\n",
    "        self.name = name\n",
    "        self.people_in = 0\n",
    "    def available_places(self):\n",
    "        return self.people_in < self.capacity\n",
    "    def put(self, patient):\n",
    "        got_in = False\n",
    "        time_start = self.env.now\n",
    "        if self.name == 'preparation':\n",
    "            self.hospital.queue += 1\n",
    "        self.hospital.update_situation()\n",
    "        while not got_in:\n",
    "            # print(self.available_places() and hospital.rooms_free(self.name))\n",
    "            if self.available_places(): # and hospital.rooms_free(self.name):\n",
    "                # self.hospital.idle_time += self.env.now - time_start\n",
    "                self.hospital.update_situation()\n",
    "                if self.name == 'preparation':\n",
    "                    self.hospital.queue += -1\n",
    "                # print(f'Patient {patient.patient_id} got in to {self.name} at time {self.env.now}')\n",
    "                self.people_in += 1\n",
    "                self.patients_taken += 1\n",
    "                # self.hospital.update_situation()\n",
    "                # print(self.hospital.situation())\n",
    "                # print('got in')\n",
    "                got_in = True\n",
    "                \n",
    "                if self.name == 'preparation':\n",
    "                    yield_time = patient.prep_time\n",
    "                    self.hospital.idle_time_before += self.env.now - time_start\n",
    "                elif self.name == 'operation':\n",
    "                    yield_time = patient.op_time\n",
    "                    self.hospital.idle_time_after_prep += self.env.now - time_start\n",
    "                else: \n",
    "                    yield_time = patient.rec_time\n",
    "                    self.hospital.idle_time_after_op += self.env.now - time_start\n",
    "                self.hospital.set_previous_free(self.id - 1)\n",
    "                # self.patients_taken += 1\n",
    "                yield self.env.timeout(yield_time)\n",
    "                self.hospital.update_situation()\n",
    "                self.active_time += yield_time\n",
    "                # patient.departure_times[self.name] = self.env.now\n",
    "                # self.hospital.update_situation()\n",
    "                self.hospital.put(patient, self.id + 1)\n",
    "                self.patients_processed += 1\n",
    "            else:\n",
    "                self.hospital.update_situation()\n",
    "                yield self.env.timeout(0.01)\n",
    "                self.hospital.update_situation()"
   ]
  },
  {
   "cell_type": "code",
   "execution_count": 134,
   "metadata": {},
   "outputs": [],
   "source": [
    "class Hospital(object):\n",
    "    '''\n",
    "    Hospital with three rooms. Keeps track on availability of rooms\n",
    "    '''\n",
    "    def __init__(self, env, prep_capacity, op_capacity, rec_capacity):\n",
    "        self.env = env\n",
    "        self.prep = Room(self, env, prep_capacity, 'preparation', 0)\n",
    "        self.op = Room(self, env, op_capacity, 'operation', 1)\n",
    "        self.rec = Room(self, env, rec_capacity, 'recovery', 2)\n",
    "        # self.stats = Stats(self, env, 'stats', 3)\n",
    "        self.patients_generated = 0\n",
    "        self.patients_through = 0\n",
    "        self.idle_time_before = 0\n",
    "        self.idle_time_after_prep = 0\n",
    "        self.idle_time_after_op = 0\n",
    "        self.rooms = [self.prep, self.op, self.rec]\n",
    "        self.queue = 0\n",
    "        self.queues = [0]\n",
    "        self.preparations = [self.prep.people_in]\n",
    "        self.operations = [self.op.people_in]\n",
    "        self.recoverys = [self.rec.people_in]\n",
    "        self.timestamps = [self.env.now]\n",
    "        self.operation_blocked = False\n",
    "        self.operation_blockeds = [False]\n",
    "    def rooms_free(self, name):\n",
    "        if name == 'preparation':\n",
    "            return self.op.available_places() #and self.rec.available_places()\n",
    "        elif name == 'operation':\n",
    "            return self.rec.available_places()\n",
    "        return True\n",
    "    def put(self, patient, room_id):\n",
    "        # print('hospital')\n",
    "        # print(self.rooms[room_id].put(patient))\n",
    "        if room_id <=2:\n",
    "            self.env.process(self.rooms[room_id].put(patient))\n",
    "        else:\n",
    "            self.set_previous_free(room_id - 1)\n",
    "            self.patients_through += 1\n",
    "    def set_previous_free(self, i):\n",
    "        if i >= 0:\n",
    "            self.rooms[i].people_in -= 1\n",
    "            \n",
    "    def update_situation(self):\n",
    "        if self.queues[-1] == self.queue and \\\n",
    "        self.preparations[-1] == self.prep.people_in and \\\n",
    "        self.operations[-1] == self.op.people_in and \\\n",
    "        self.recoverys[-1] == self.rec.people_in: \n",
    "            return\n",
    "        self.timestamps.append(self.env.now)\n",
    "        self.queues.append(self.queue)\n",
    "        self.preparations.append(self.prep.people_in)\n",
    "        self.operations.append(self.op.people_in)\n",
    "        self.recoverys.append(self.rec.people_in)\n",
    "        if self.rec.available_places():\n",
    "            self.operation_blocked = False\n",
    "        else:\n",
    "            self.operation_blocked = True\n",
    "        # print(self.operation_blocked)\n",
    "        self.operation_blockeds.append(self.operation_blocked)\n",
    "        \n",
    "    def situation(self):\n",
    "        return(f' Preparation: {self.prep.people_in}/{self.prep.capacity}, people through: {self.prep.patients_processed},\\n' \n",
    "               f' Operation: {self.op.people_in}/{self.op.capacity}, people through: {self.op.patients_processed},\\n')\n",
    "    \n",
    "    def get_stats(self):\n",
    "        blocked_time = 0\n",
    "        for i, boolean in enumerate(self.operation_blockeds):\n",
    "            if boolean:\n",
    "                try:\n",
    "                    blocked_time += self.timestamps[i + 1] - self.timestamps[i]\n",
    "                except IndexError:\n",
    "                    blocked_time += self.env.now - self.timestamps[i]\n",
    "        time_sum_queues = self.timestamps[0]\n",
    "        for i, num in enumerate(self.queues):\n",
    "            try:\n",
    "                time = self.timestamps[i + 1] - self.timestamps[i]\n",
    "            except IndexError:\n",
    "                time = self.env.now - self.timestamps[i]\n",
    "            time_sum_queues += time * num\n",
    "        average_queue = time_sum_queues / self.env.now\n",
    "        \n",
    "        blocked_rate = blocked_time/self.env.now\n",
    "        preparation_use_rate = self.prep.active_time / (self.prep.capacity * self.env.now)\n",
    "        operation_use_rate = self.op.active_time / (self.op.capacity * self.env.now)\n",
    "        recovery_use_rate = self.rec.active_time / (self.rec.capacity * self.env.now)\n",
    "        return {'patients created':self.patients_generated, \n",
    "                'patients through':self.patients_through, \n",
    "                'average preparation waiting time': self.idle_time_before/self.prep.patients_taken,\n",
    "                'average operation waiting time': self.idle_time_after_prep/self.op.patients_taken,\n",
    "                'average recovery waiting time': self.idle_time_after_op/self.rec.patients_taken,\n",
    "                'timestamps':self.timestamps,\n",
    "                'blocked': self.operation_blockeds,\n",
    "                'people in operation': self.operations,\n",
    "                'people in preparation': self.preparations,\n",
    "                'people in recovery': self.recoverys,\n",
    "                'people in queue': self.queues,\n",
    "                'preparation_use_rate':preparation_use_rate,\n",
    "                'operation_use_rate':operation_use_rate,\n",
    "                'recovery_use_rate':recovery_use_rate,\n",
    "                'prep_max': self.prep.capacity,\n",
    "                'op_max': self.op.capacity,\n",
    "                'rec_max': self.rec.capacity,\n",
    "                'blocked time': blocked_time,\n",
    "                'blocked rate': blocked_rate,\n",
    "                'average queue length': average_queue}"
   ]
  },
  {
   "cell_type": "markdown",
   "metadata": {},
   "source": [
    "# Excercise 1 and 2\n",
    "first I run the different combinations, then I plot and print some statistics, and then I'll write something about them."
   ]
  },
  {
   "cell_type": "code",
   "execution_count": 295,
   "metadata": {},
   "outputs": [],
   "source": [
    "def run_hospital(*, prep_rooms, op_rooms, rec_rooms, arr_interval, avg_prep_time, avg_rec_time, avg_op_time, max_time, seed=None):\n",
    "    if seed:\n",
    "        random.seed(seed)\n",
    "    env = simpy.Environment()\n",
    "    hospital = Hospital(env, prep_rooms, op_room, rec_rooms)\n",
    "    arr_interval_f = functools.partial(random.expovariate, 1./arr_interval)\n",
    "    prep_time_f = functools.partial(random.expovariate, 1./avg_prep_time)\n",
    "    op_time_f = functools.partial(random.expovariate, 1./avg_op_time)\n",
    "    rec_time_f = functools.partial(random.expovariate, 1./avg_rec_time)\n",
    "    patient_gen = PatientGenerator(env, hospital, arr_interval_f, prep_time_f, op_time_f, rec_time_f)\n",
    "    env.run(until=max_time)\n",
    "    # print(f'{patient_gen.patient_id} patients created')\n",
    "    # print(hospital.rec.patients_taken)\n",
    "    stats = hospital.get_stats()\n",
    "    # print(stats['blocked'])\n",
    "    # print(env.now)\n",
    "    return stats\n",
    "\n",
    "stats_3_4 = []\n",
    "first_seed = 42\n",
    "for i in range(20):\n",
    "    stats_3_4.append(run_hospital(arr_interval=25, \n",
    "                              avg_prep_time=40, \n",
    "                              avg_rec_time=40,\n",
    "                              avg_op_time=20,\n",
    "                              max_time=1000, \n",
    "                              op_rooms=1, \n",
    "                              prep_rooms=3, \n",
    "                              rec_rooms=4)) \n",
    "#                               seed=first_seed+i))\n",
    "    "
   ]
  },
  {
   "cell_type": "code",
   "execution_count": 296,
   "metadata": {},
   "outputs": [],
   "source": [
    "stats_3_5 = []\n",
    "first_seed = 42\n",
    "for i in range(20):\n",
    "    stats_3_5.append(run_hospital(arr_interval=25, \n",
    "                              avg_prep_time=40, \n",
    "                              avg_rec_time=40,\n",
    "                              avg_op_time=20,\n",
    "                              max_time=1000, \n",
    "                              op_rooms=1, \n",
    "                              prep_rooms=3, \n",
    "                              rec_rooms=5)) \n",
    "                              #seed=first_seed+i))\n",
    "    "
   ]
  },
  {
   "cell_type": "code",
   "execution_count": 297,
   "metadata": {},
   "outputs": [],
   "source": [
    "stats_4_5 = []\n",
    "first_seed = 42\n",
    "for i in range(20):\n",
    "    stats_4_5.append(run_hospital(arr_interval=25, \n",
    "                              avg_prep_time=40, \n",
    "                              avg_rec_time=40,\n",
    "                              avg_op_time=20,\n",
    "                              max_time=1000, \n",
    "                              op_rooms=1, \n",
    "                              prep_rooms=4, \n",
    "                              rec_rooms=5)) \n",
    "                              #seed=first_seed+i))\n",
    "    "
   ]
  },
  {
   "cell_type": "code",
   "execution_count": 298,
   "metadata": {},
   "outputs": [],
   "source": [
    "blocked_3_4 = [i['blocked rate'] for i in stats_3_4]\n",
    "blocked_3_5 = [i['blocked rate'] for i in stats_3_5]\n",
    "blocked_4_5 = [i['blocked rate'] for i in stats_4_5]"
   ]
  },
  {
   "cell_type": "code",
   "execution_count": 299,
   "metadata": {},
   "outputs": [],
   "source": [
    "def calculate_and_draw(array):\n",
    "    bins = np.linspace(np.min(array), np.max(array), 7)\n",
    "    histogram, bins = np.histogram(array, bins=bins, density=True)\n",
    "\n",
    "    bin_centers = 0.5*(bins[1:] + bins[:-1])\n",
    "\n",
    "    # Compute the PDF on the bin centers from scipy distribution object\n",
    "    pdf = scipy.stats.norm.pdf(bin_centers)\n",
    "    # plt.figure(figsize=(15, 7.5))\n",
    "    plt.plot(bin_centers, histogram)\n",
    "    #plt.plot(bin_centers, pdf, label=\"PDF\")\n",
    "    mean = np.average(array)\n",
    "    print(f\"Mean: {mean}\")\n",
    "    std = np.std(array)\n",
    "    print(f\"Standard deviation: {std}\")\n",
    "    var = std ** 2\n",
    "    print(f\"Variance: {var}\")\n",
    "\n",
    "    x = np.linspace(mean - 4*std, mean + 4*std, 100)\n",
    "    plt.plot(x, scipy.stats.norm.pdf(x, mean, mean))\n",
    "    #plt.title(f\"Difference\")\n",
    "    plt.legend()\n",
    "    ci_norm = scipy.stats.norm.interval(0.95, loc=mean, scale=std)\n",
    "    ci = [0,0]\n",
    "    ci[0] = mean - 1.96 * np.sqrt(mean/len(array))\n",
    "    ci[1] = mean + 1.96 * np.sqrt(mean/len(array))\n",
    "    print(f\"Poisson 95% confidence interval: {ci}\")\n",
    "    print(f\"Normal distribution 95% confidence interval: {ci_norm}\")\n",
    "\n",
    "    # cnfidence interval left line\n",
    "    one_x12, one_y12 = [ci_norm[0],ci_norm[0]], [0, np.max(histogram)/3]\n",
    "    # cnfidence interval right line\n",
    "    two_x12, two_y12 = [ci_norm[1],ci_norm[1]], [0, np.max(histogram)/3]\n",
    "\n",
    "    plt.plot(one_x12, one_y12, two_x12, two_y12, marker = 'o')\n",
    "    plt.show()"
   ]
  },
  {
   "cell_type": "code",
   "execution_count": 300,
   "metadata": {},
   "outputs": [
    {
     "name": "stderr",
     "output_type": "stream",
     "text": [
      "No handles with labels found to put in legend.\n"
     ]
    },
    {
     "name": "stdout",
     "output_type": "stream",
     "text": [
      "Mean: 0.029375500000083828\n",
      "Standard deviation: 0.022019753285444643\n",
      "Variance: 0.00048486953475185014\n",
      "Poisson 95% confidence interval: [-0.045740716890918486, 0.10449171689108613]\n",
      "Normal distribution 95% confidence interval: (-0.013782423387845202, 0.07253342338801286)\n"
     ]
    },
    {
     "data": {
      "image/png": "[encoded data removed]",
      "text/plain": [
       "<Figure size 432x288 with 1 Axes>"
      ]
     },
     "metadata": {
      "needs_background": "light"
     },
     "output_type": "display_data"
    }
   ],
   "source": [
    "calculate_and_draw(blocked_3_4)"
   ]
  },
  {
   "cell_type": "code",
   "execution_count": 301,
   "metadata": {},
   "outputs": [
    {
     "name": "stdout",
     "output_type": "stream",
     "text": [
      "Mean: 0.012098500000005062\n",
      "Standard deviation: 0.020599095192504812\n",
      "Variance: 0.00042432272274987485\n"
     ]
    },
    {
     "name": "stderr",
     "output_type": "stream",
     "text": [
      "No handles with labels found to put in legend.\n"
     ]
    },
    {
     "name": "stdout",
     "output_type": "stream",
     "text": [
      "Poisson 95% confidence interval: [-0.03610813730235168, 0.060305137302361804]\n",
      "Normal distribution 95% confidence interval: (-0.028274984691416538, 0.052471984691426665)\n"
     ]
    },
    {
     "data": {
      "image/png": "[encoded data removed]",
      "text/plain": [
       "<Figure size 432x288 with 1 Axes>"
      ]
     },
     "metadata": {
      "needs_background": "light"
     },
     "output_type": "display_data"
    }
   ],
   "source": [
    "calculate_and_draw(blocked_3_5)"
   ]
  },
  {
   "cell_type": "code",
   "execution_count": 302,
   "metadata": {},
   "outputs": [
    {
     "name": "stderr",
     "output_type": "stream",
     "text": [
      "No handles with labels found to put in legend.\n"
     ]
    },
    {
     "name": "stdout",
     "output_type": "stream",
     "text": [
      "Mean: 0.010760500000017905\n",
      "Standard deviation: 0.013826424149089172\n",
      "Variance: 0.00019117000475051622\n",
      "Poisson 95% confidence interval: [-0.03470241719634598, 0.0562234171963818]\n",
      "Normal distribution 95% confidence interval: (-0.016338793367171735, 0.037859793367207545)\n"
     ]
    },
    {
     "data": {
      "image/png": "[encoded data removed]",
      "text/plain": [
       "<Figure size 432x288 with 1 Axes>"
      ]
     },
     "metadata": {
      "needs_background": "light"
     },
     "output_type": "display_data"
    }
   ],
   "source": [
    "calculate_and_draw(blocked_4_5)"
   ]
  },
  {
   "cell_type": "code",
   "execution_count": 303,
   "metadata": {},
   "outputs": [],
   "source": [
    "av_que_3_4 = [i['average queue length'] for i in stats_3_4]\n",
    "av_que_3_5 = [i['average queue length'] for i in stats_3_5]\n",
    "av_que_4_5 = [i['average queue length'] for i in stats_4_5]"
   ]
  },
  {
   "cell_type": "code",
   "execution_count": 308,
   "metadata": {},
   "outputs": [
    {
     "data": {
      "text/plain": [
       "[3.739479999996659,\n",
       " 0.9211199999983574,\n",
       " 0.3597099999996162,\n",
       " 0.9126099999993565,\n",
       " 0.4305299999996844,\n",
       " 1.789349999998564,\n",
       " 0.6261099999995376,\n",
       " 1.2714399999984267,\n",
       " 2.548349999998257,\n",
       " 0.38273999999925296,\n",
       " 2.1801999999984703,\n",
       " 0.8180599999996025,\n",
       " 1.728829999998461,\n",
       " 0.46917999999935617,\n",
       " 1.390969999998798,\n",
       " 2.0131399999990314,\n",
       " 1.1838499999989054,\n",
       " 1.3476099999988556,\n",
       " 2.317309999998506,\n",
       " 1.4760899999974513]"
      ]
     },
     "execution_count": 308,
     "metadata": {},
     "output_type": "execute_result"
    }
   ],
   "source": [
    "av_que_3_4"
   ]
  },
  {
   "cell_type": "code",
   "execution_count": 304,
   "metadata": {},
   "outputs": [
    {
     "name": "stderr",
     "output_type": "stream",
     "text": [
      "No handles with labels found to put in legend.\n"
     ]
    },
    {
     "name": "stdout",
     "output_type": "stream",
     "text": [
      "Mean: 1.3953339999987575\n",
      "Standard deviation: 0.8448932013355245\n",
      "Variance: 0.7138445216629911\n",
      "Poisson 95% confidence interval: [0.8776316195524616, 1.9130363804450534]\n",
      "Normal distribution 95% confidence interval: (-0.26062624540161927, 3.0512942453991343)\n"
     ]
    },
    {
     "data": {
      "image/png": "[encoded data removed]",
      "text/plain": [
       "<Figure size 432x288 with 1 Axes>"
      ]
     },
     "metadata": {
      "needs_background": "light"
     },
     "output_type": "display_data"
    }
   ],
   "source": [
    "calculate_and_draw(av_que_3_4)"
   ]
  },
  {
   "cell_type": "code",
   "execution_count": 305,
   "metadata": {},
   "outputs": [
    {
     "name": "stderr",
     "output_type": "stream",
     "text": [
      "No handles with labels found to put in legend.\n"
     ]
    },
    {
     "name": "stdout",
     "output_type": "stream",
     "text": [
      "Mean: 1.6258729999989119\n",
      "Standard deviation: 1.8370917787981431\n",
      "Variance: 3.3749062037277255\n",
      "Poisson 95% confidence interval: [1.0670369902073173, 2.1847090097905064]\n",
      "Normal distribution 95% confidence interval: (-1.974760722740072, 5.226506722737896)\n"
     ]
    },
    {
     "data": {
      "image/png": "[encoded data removed]",
      "text/plain": [
       "<Figure size 432x288 with 1 Axes>"
      ]
     },
     "metadata": {
      "needs_background": "light"
     },
     "output_type": "display_data"
    }
   ],
   "source": [
    "calculate_and_draw(av_que_3_5)"
   ]
  },
  {
   "cell_type": "code",
   "execution_count": 306,
   "metadata": {},
   "outputs": [
    {
     "name": "stdout",
     "output_type": "stream",
     "text": [
      "Mean: 0.9387409999991357\n",
      "Standard deviation: 1.2341969965072621\n",
      "Variance: 1.5232422261875467\n"
     ]
    },
    {
     "name": "stderr",
     "output_type": "stream",
     "text": [
      "No handles with labels found to put in legend.\n"
     ]
    },
    {
     "name": "stdout",
     "output_type": "stream",
     "text": [
      "Poisson 95% confidence interval: [0.5141077802908398, 1.3633742197074317]\n",
      "Normal distribution 95% confidence interval: (-1.480240662982605, 3.3577226629808763)\n"
     ]
    },
    {
     "data": {
      "image/png": "[encoded data removed]",
      "text/plain": [
       "<Figure size 432x288 with 1 Axes>"
      ]
     },
     "metadata": {
      "needs_background": "light"
     },
     "output_type": "display_data"
    }
   ],
   "source": [
    "calculate_and_draw(av_que_4_5)"
   ]
  },
  {
   "cell_type": "markdown",
   "metadata": {},
   "source": [
    "It seem's like it's not a good idea to assume these follow normal distribution. \n",
    "\n",
    "It seem's queues are shortest when there's more room in preparation room.\n",
    "\n",
    "The probability of operation being in blocked state seems really low, but if it's cost effective to have extra room in the recovery room, then it's a good idea."
   ]
  },
  {
   "cell_type": "markdown",
   "metadata": {},
   "source": [
    "# Excercise 3\n",
    "First run, then plot, then talk."
   ]
  },
  {
   "cell_type": "code",
   "execution_count": 310,
   "metadata": {},
   "outputs": [],
   "source": [
    "stats_3_4 = []\n",
    "first_seed = 42\n",
    "for i in range(20):\n",
    "    stats_3_4.append(run_hospital(arr_interval=25, \n",
    "                              avg_prep_time=40, \n",
    "                              avg_rec_time=40,\n",
    "                              avg_op_time=20,\n",
    "                              max_time=1000, \n",
    "                              op_rooms=1, \n",
    "                              prep_rooms=3, \n",
    "                              rec_rooms=4,\n",
    "                              seed=first_seed+i))"
   ]
  },
  {
   "cell_type": "code",
   "execution_count": 311,
   "metadata": {},
   "outputs": [],
   "source": [
    "stats_3_5 = []\n",
    "first_seed = 42\n",
    "for i in range(20):\n",
    "    stats_3_5.append(run_hospital(arr_interval=25, \n",
    "                              avg_prep_time=40, \n",
    "                              avg_rec_time=40,\n",
    "                              avg_op_time=20,\n",
    "                              max_time=1000, \n",
    "                              op_rooms=1, \n",
    "                              prep_rooms=3, \n",
    "                              rec_rooms=5,\n",
    "                              seed=first_seed+i))"
   ]
  },
  {
   "cell_type": "code",
   "execution_count": 321,
   "metadata": {},
   "outputs": [],
   "source": [
    "stats_4_5 = []\n",
    "first_seed = 42\n",
    "for i in range(20):\n",
    "    stats_4_5.append(run_hospital(arr_interval=25, \n",
    "                              avg_prep_time=40, \n",
    "                              avg_rec_time=40,\n",
    "                              avg_op_time=20,\n",
    "                              max_time=1000, \n",
    "                              op_rooms=1, \n",
    "                              prep_rooms=4, \n",
    "                              rec_rooms=5,\n",
    "                              seed=first_seed+i))"
   ]
  },
  {
   "cell_type": "code",
   "execution_count": 322,
   "metadata": {},
   "outputs": [],
   "source": [
    "blocked_3_4 = [i['blocked rate'] for i in stats_3_4]\n",
    "blocked_3_5 = [i['blocked rate'] for i in stats_3_5]\n",
    "blocked_4_5 = [i['blocked rate'] for i in stats_4_5]"
   ]
  },
  {
   "cell_type": "code",
   "execution_count": 323,
   "metadata": {},
   "outputs": [],
   "source": [
    "av_que_3_4 = [i['average queue length'] for i in stats_3_4]\n",
    "av_que_3_5 = [i['average queue length'] for i in stats_3_5]\n",
    "av_que_4_5 = [i['average queue length'] for i in stats_4_5]"
   ]
  },
  {
   "cell_type": "code",
   "execution_count": 324,
   "metadata": {},
   "outputs": [
    {
     "name": "stderr",
     "output_type": "stream",
     "text": [
      "No handles with labels found to put in legend.\n"
     ]
    },
    {
     "name": "stdout",
     "output_type": "stream",
     "text": [
      "Mean: 0.055399500000001864\n",
      "Standard deviation: 0.03945460663534681\n",
      "Variance: 0.0015566659847499529\n",
      "Poisson 95% confidence interval: [-0.0477563818487825, 0.15855538184878623]\n",
      "Normal distribution 95% confidence interval: (-0.021930108029472928, 0.13272910802947666)\n"
     ]
    },
    {
     "data": {
      "image/png": "[encoded data removed]",
      "text/plain": [
       "<Figure size 432x288 with 1 Axes>"
      ]
     },
     "metadata": {
      "needs_background": "light"
     },
     "output_type": "display_data"
    }
   ],
   "source": [
    "calculate_and_draw(blocked_3_4)"
   ]
  },
  {
   "cell_type": "code",
   "execution_count": 325,
   "metadata": {},
   "outputs": [
    {
     "name": "stderr",
     "output_type": "stream",
     "text": [
      "No handles with labels found to put in legend.\n"
     ]
    },
    {
     "name": "stdout",
     "output_type": "stream",
     "text": [
      "Mean: 0.012024500000009826\n",
      "Standard deviation: 0.017415355429924978\n",
      "Variance: 0.00030329460475061744\n",
      "Poisson 95% confidence interval: [-0.036034484175707905, 0.06008348417572756]\n",
      "Normal distribution 95% confidence interval: (-0.0221089694206072, 0.04615796942062685)\n"
     ]
    },
    {
     "data": {
      "image/png": "[encoded data removed]",
      "text/plain": [
       "<Figure size 432x288 with 1 Axes>"
      ]
     },
     "metadata": {
      "needs_background": "light"
     },
     "output_type": "display_data"
    }
   ],
   "source": [
    "calculate_and_draw(blocked_3_5)"
   ]
  },
  {
   "cell_type": "code",
   "execution_count": 326,
   "metadata": {},
   "outputs": [
    {
     "name": "stderr",
     "output_type": "stream",
     "text": [
      "No handles with labels found to put in legend.\n"
     ]
    },
    {
     "name": "stdout",
     "output_type": "stream",
     "text": [
      "Mean: 0.010382499999989536\n",
      "Standard deviation: 0.014666551358435845\n",
      "Variance: 0.00021510772874963635\n",
      "Poisson 95% confidence interval: [-0.0342747569690406, 0.055039756969019665]\n",
      "Normal distribution 95% confidence interval: (-0.018363412439951727, 0.0391284124399308)\n"
     ]
    },
    {
     "data": {
      "image/png": "[encoded data removed]",
      "text/plain": [
       "<Figure size 432x288 with 1 Axes>"
      ]
     },
     "metadata": {
      "needs_background": "light"
     },
     "output_type": "display_data"
    }
   ],
   "source": [
    "calculate_and_draw(blocked_4_5)"
   ]
  },
  {
   "cell_type": "code",
   "execution_count": 327,
   "metadata": {},
   "outputs": [
    {
     "name": "stdout",
     "output_type": "stream",
     "text": [
      "Mean: 1.6567069999987942\n",
      "Standard deviation: 1.501063042379888\n",
      "Variance: 2.253190257198766\n"
     ]
    },
    {
     "name": "stderr",
     "output_type": "stream",
     "text": [
      "No handles with labels found to put in legend.\n"
     ]
    },
    {
     "name": "stdout",
     "output_type": "stream",
     "text": [
      "Poisson 95% confidence interval: [1.0925968329571352, 2.2208171670404533]\n",
      "Normal distribution 95% confidence interval: (-1.2853225015899072, 4.598736501587496)\n"
     ]
    },
    {
     "data": {
      "image/png": "[encoded data removed]",
      "text/plain": [
       "<Figure size 432x288 with 1 Axes>"
      ]
     },
     "metadata": {
      "needs_background": "light"
     },
     "output_type": "display_data"
    }
   ],
   "source": [
    "calculate_and_draw(av_que_3_4)"
   ]
  },
  {
   "cell_type": "code",
   "execution_count": 328,
   "metadata": {},
   "outputs": [
    {
     "name": "stderr",
     "output_type": "stream",
     "text": [
      "No handles with labels found to put in legend.\n"
     ]
    },
    {
     "name": "stdout",
     "output_type": "stream",
     "text": [
      "Mean: 1.6458634999988047\n",
      "Standard deviation: 1.493001079457263\n",
      "Variance: 2.2290522232605525\n",
      "Poisson 95% confidence interval: [1.0836024742467343, 2.208124525750875]\n",
      "Normal distribution 95% confidence interval: (-1.2803648446168545, 4.572091844614464)\n"
     ]
    },
    {
     "data": {
      "image/png": "[encoded data removed]",
      "text/plain": [
       "<Figure size 432x288 with 1 Axes>"
      ]
     },
     "metadata": {
      "needs_background": "light"
     },
     "output_type": "display_data"
    }
   ],
   "source": [
    "calculate_and_draw(av_que_3_5)"
   ]
  },
  {
   "cell_type": "code",
   "execution_count": 329,
   "metadata": {},
   "outputs": [
    {
     "name": "stderr",
     "output_type": "stream",
     "text": [
      "No handles with labels found to put in legend.\n"
     ]
    },
    {
     "name": "stdout",
     "output_type": "stream",
     "text": [
      "Mean: 1.0564124999990931\n",
      "Standard deviation: 1.1819414588875896\n",
      "Variance: 1.3969856122373236\n",
      "Poisson 95% confidence interval: [0.6059508334836994, 1.506874166514487]\n",
      "Normal distribution 95% confidence interval: (-1.2601501912553115, 3.3729751912534978)\n"
     ]
    },
    {
     "data": {
      "image/png": "[encoded data removed]",
      "text/plain": [
       "<Figure size 432x288 with 1 Axes>"
      ]
     },
     "metadata": {
      "needs_background": "light"
     },
     "output_type": "display_data"
    }
   ],
   "source": [
    "calculate_and_draw(av_que_4_5)"
   ]
  },
  {
   "cell_type": "markdown",
   "metadata": {},
   "source": [
    "The patterns are more clear. The probability of blockedness is dependent on the recovery room space, and the average length of the queue is dependent on the size of the preparation room."
   ]
  },
  {
   "cell_type": "markdown",
   "metadata": {},
   "source": [
    "# Excercise 4:\n",
    "in these excercises I have assumed blockedness of the operation to mean that recovery room is full. It is a sort of passive block until a patient tries to come out of surgery, when the block is realised. The confidence interval is smallest with 4p, 5r configuration. The intervals are visible with `calculate_and_draw(blocked_x_y)` plots."
   ]
  },
  {
   "cell_type": "code",
   "execution_count": null,
   "metadata": {},
   "outputs": [],
   "source": []
  }
 ],
 "metadata": {
  "kernelspec": {
   "display_name": "Python 3",
   "language": "python",
   "name": "python3"
  },
  "language_info": {
   "codemirror_mode": {
    "name": "ipython",
    "version": 3
   },
   "file_extension": ".py",
   "mimetype": "text/x-python",
   "name": "python",
   "nbconvert_exporter": "python",
   "pygments_lexer": "ipython3",
   "version": "3.7.1"
  }
 },
 "nbformat": 4,
 "nbformat_minor": 2
}

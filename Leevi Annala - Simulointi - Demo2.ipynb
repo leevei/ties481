{
 "cells": [
  {
   "cell_type": "markdown",
   "metadata": {},
   "source": [
    "This is what I did. It runs as of now, but there seems to be some problems. It answers to the excercises, because:\n",
    "\n",
    "ex 1: Patient keeps track of their own times\n",
    "\n",
    "ex 2: Preparation has multiple parallel tracks.\n",
    "\n",
    "ex 3: Hospital has sequential stuff that are dependent on each other\n",
    "\n",
    "ex 4: stats are collected via Stats object\n",
    "\n",
    "ex 5: triangular strea, read code comments"
   ]
  },
  {
   "cell_type": "code",
   "execution_count": 56,
   "metadata": {},
   "outputs": [],
   "source": [
    "import simpy\n",
    "import random\n",
    "import numpy"
   ]
  },
  {
   "cell_type": "code",
   "execution_count": 176,
   "metadata": {},
   "outputs": [],
   "source": [
    "class Hospital(object):\n",
    "    '''\n",
    "    Hospital with three rooms. Keeps track on availability of rooms\n",
    "    '''\n",
    "    def __init__(self, env, prep_capacity, op_capacity, rec_capacity, avg_prep_time, avg_op_time, avg_rec_time):\n",
    "        self.env = env\n",
    "        self.prep = Room(self, env, prep_capacity, avg_prep_time, 'preparation', 0)\n",
    "        self.op = Room(self, env, op_capacity, avg_op_time, 'operation', 1)\n",
    "        self.rec = Room(self, env, op_capacity, avg_op_time, 'recovery', 2)\n",
    "        self.stats = Stats(self, env, 'stats', 3)\n",
    "        self.rooms = [self.prep, self.op, self.rec, self.stats]\n",
    "    def rooms_free(self, name):\n",
    "        if name == 'preparation':\n",
    "            return self.op.available_places() and self.rec.available_places()\n",
    "        elif name == 'operation':\n",
    "            return self.rec.available_places()\n",
    "        return True\n",
    "    def put(self, patient, room_id):\n",
    "        # print('hospital')\n",
    "        # print(self.rooms[room_id].put(patient))\n",
    "        if room_id <=2:\n",
    "            self.env.process(self.rooms[room_id].put(patient))\n",
    "        else:\n",
    "            self.rooms[room_id].put(patient)\n",
    "    def set_previous_free(self, i):\n",
    "        if i >= 0:\n",
    "            self.rooms[i].people_in -= 1"
   ]
  },
  {
   "cell_type": "code",
   "execution_count": 177,
   "metadata": {},
   "outputs": [],
   "source": [
    "class Room(object):\n",
    "    '''\n",
    "    Room keeps track of its own usage and throughput.\n",
    "    '''\n",
    "    def __init__(self, hospital, env, capacity, avg_time, name, index):\n",
    "        # print('room init')\n",
    "        self.hospital = hospital\n",
    "        self.env = env\n",
    "        self.capacity = capacity\n",
    "        self.avg_time = avg_time\n",
    "        self.patients_taken = 0\n",
    "        self.patients_processed = 0\n",
    "        self.active_time = 0\n",
    "        # self.out = hospital.rooms[index + 1]\n",
    "        # self.unit = simpy.Resource(env, capacity)\n",
    "        self.id = index\n",
    "        self.name = name\n",
    "        self.people_in = 0\n",
    "    def available_places(self):\n",
    "        return self.people_in < self.capacity\n",
    "    def put(self, patient):\n",
    "        # print(f'Room named {self.name}')\n",
    "        got_in = False\n",
    "        patient.idle_times[self.name] = 0\n",
    "        while not got_in:\n",
    "            # print(self.available_places() and hospital.rooms_free(self.name))\n",
    "            if self.available_places() and hospital.rooms_free(self.name):\n",
    "                # print('got in')\n",
    "                got_in = True\n",
    "                self.people_in += 1\n",
    "                patient.arrival_times[self.name] = self.env.now\n",
    "                time_yield = random.expovariate(1/self.avg_time)\n",
    "                hospital.set_previous_free(self.id - 1)\n",
    "                self.patients_taken += 1\n",
    "                yield self.env.timeout(time_yield)\n",
    "                patient.departure_times[self.name] = self.env.now\n",
    "                hospital.put(patient, self.id + 1)\n",
    "                self.patients_processed += 1\n",
    "            else:\n",
    "                yield self.env.timeout(1)\n",
    "                patient.idle_times[self.name] += 1"
   ]
  },
  {
   "cell_type": "code",
   "execution_count": 178,
   "metadata": {},
   "outputs": [],
   "source": [
    "class Patient(object):\n",
    "    '''\n",
    "    Patient keeps track of arrival times to different places and idle times.\n",
    "    '''\n",
    "    def __init__(self, patient_id, arrival_time):\n",
    "        self.patient_id = patient_id\n",
    "        self.arrival_times = {}\n",
    "        self.arrival_times['hospital'] = arrival_time\n",
    "        self.departure_times = {}\n",
    "        self.idle_times = {}\n",
    "    "
   ]
  },
  {
   "cell_type": "code",
   "execution_count": 179,
   "metadata": {},
   "outputs": [],
   "source": [
    "class PatientGenerator(object):\n",
    "    '''\n",
    "    Generates patients.\n",
    "    '''\n",
    "    def __init__(self, env,hospital, arr_interval):\n",
    "        self.env = env\n",
    "        self.arr_interval = arr_interval\n",
    "        self.patient_id = 0\n",
    "        self.hospital = hospital\n",
    "        self.action = env.process(self.run())\n",
    "\n",
    "    def run(self):\n",
    "        while True:\n",
    "            wait_time = random.expovariate(1/self.arr_interval) # Excercise 5: random.triangular(10,25,40)\n",
    "            yield self.env.timeout(wait_time)\n",
    "            print('one patient arrived')\n",
    "            self.patient_id += 1 \n",
    "            patient = Patient(self.patient_id, \n",
    "                              self.env.now)\n",
    "            self.hospital.put(patient, 0)"
   ]
  },
  {
   "cell_type": "code",
   "execution_count": 180,
   "metadata": {},
   "outputs": [],
   "source": [
    "class Stats(object):\n",
    "    '''\n",
    "    Stats keep a poll just outside the hospital. They want to know if you'd give them a smiley.\n",
    "    '''\n",
    "    def __init__(self, hospital, env, name, index):\n",
    "        self.hospital = hospital\n",
    "        self.env = env\n",
    "        self.name = name\n",
    "        self.id = index\n",
    "        self.op_usage_minutes = 0\n",
    "        self.rec_usage_minutes = 0\n",
    "        self.prep_usage_minutes = 0\n",
    "        self.op_usage_rate = 0\n",
    "        self.rec_usage_rate = 0\n",
    "        self.prep_usage_rate = 0\n",
    "        self.average_idle = 0\n",
    "        self.patients_out = 0\n",
    "        self.total_idle = 0\n",
    "        \n",
    "    def put(self, patient):\n",
    "        hospital.set_previous_free(self.id - 1)\n",
    "        self.op_usage_minutes += patient.departure_times['operation'] - patient.arrival_times['operation']\n",
    "        self.rec_usage_minutes += patient.departure_times['recovery'] - patient.arrival_times['recovery']\n",
    "        self.prep_usage_minutes += patient.departure_times['preparation'] - patient.arrival_times['preparation']\n",
    "        self.op_usage_rate = self.op_usage_minutes / (self.hospital.op.capacity * self.env.now)\n",
    "        self.rec_usage_rate = self.rec_usage_minutes / (self.hospital.rec.capacity * self.env.now)\n",
    "        self.prep_usage_rate = self.prep_usage_minutes / (self.hospital.prep.capacity * self.env.now)\n",
    "        self.patients_out += 1\n",
    "        self.total_idle += np.sum(list(patient.idle_times.values()))\n",
    "        self.average_idle = self.total_idle / self.patients_out\n",
    "    def print_stats(self):\n",
    "        print(f'operation minutes {self.op_usage_minutes}')\n",
    "        print(f'recovery minutes {self.rec_usage_minutes}')\n",
    "        print(f'preparation minutes {self.prep_usage_minutes}')\n",
    "        print(f'operation usage rate {self.op_usage_rate}')\n",
    "        print(f'recovery usage rate {self.rec_usage_rate}')\n",
    "        print(f'preparation usage rate {self.prep_usage_rate}')\n",
    "        print(f'average idle {self.average_idle}')\n",
    "        print(f'patients out {self.patients_out}')"
   ]
  },
  {
   "cell_type": "code",
   "execution_count": null,
   "metadata": {},
   "outputs": [],
   "source": []
  },
  {
   "cell_type": "code",
   "execution_count": 181,
   "metadata": {},
   "outputs": [
    {
     "name": "stdout",
     "output_type": "stream",
     "text": [
      "one patient arrived\n",
      "one patient arrived\n",
      "one patient arrived\n",
      "one patient arrived\n",
      "one patient arrived\n",
      "one patient arrived\n",
      "one patient arrived\n",
      "one patient arrived\n",
      "one patient arrived\n",
      "one patient arrived\n",
      "one patient arrived\n",
      "one patient arrived\n",
      "one patient arrived\n",
      "one patient arrived\n",
      "one patient arrived\n",
      "one patient arrived\n",
      "one patient arrived\n",
      "one patient arrived\n",
      "one patient arrived\n",
      "one patient arrived\n",
      "one patient arrived\n",
      "one patient arrived\n",
      "one patient arrived\n",
      "one patient arrived\n",
      "one patient arrived\n",
      "one patient arrived\n",
      "one patient arrived\n",
      "one patient arrived\n",
      "one patient arrived\n",
      "one patient arrived\n",
      "one patient arrived\n",
      "one patient arrived\n",
      "one patient arrived\n",
      "one patient arrived\n",
      "one patient arrived\n",
      "one patient arrived\n",
      "one patient arrived\n",
      "one patient arrived\n",
      "operation minutes 527.3385483370041\n",
      "recovery minutes 332.43836405848424\n",
      "preparation minutes 637.3104288702816\n",
      "operation usage rate 0.5539240970089095\n",
      "recovery usage rate 0.349198102818256\n",
      "preparation usage rate 0.2231467210451476\n",
      "average idle 157.64705882352942\n",
      "patients out 17\n",
      "None\n"
     ]
    }
   ],
   "source": [
    "prep_rooms = 3\n",
    "op_room = 1\n",
    "rec_rooms = 3\n",
    "arr_interval = 25\n",
    "avg_prep_time = 40\n",
    "avg_op_time = 20\n",
    "avg_rec_time = 40\n",
    "max_time = 1000\n",
    "\n",
    "env = simpy.Environment()\n",
    "hospital = Hospital(env, prep_rooms, op_room, rec_rooms, avg_prep_time, avg_op_time, avg_rec_time)\n",
    "patient_gen = PatientGenerator(env, hospital, arr_interval)\n",
    "env.run(until=max_time)\n",
    "print(hospital.stats.print_stats())\n"
   ]
  },
  {
   "cell_type": "code",
   "execution_count": 32,
   "metadata": {},
   "outputs": [
    {
     "data": {
      "text/plain": [
       "3"
      ]
     },
     "execution_count": 32,
     "metadata": {},
     "output_type": "execute_result"
    }
   ],
   "source": [
    "import numpy as np\n",
    "np.sum(list({'a':1, 'b':2}.values()))"
   ]
  },
  {
   "cell_type": "markdown",
   "metadata": {},
   "source": [
    "ex 6: Lehmer generator"
   ]
  },
  {
   "cell_type": "code",
   "execution_count": 99,
   "metadata": {},
   "outputs": [],
   "source": [
    "import numpy as np\n",
    "from scipy import stats\n",
    "\n",
    "def lehmer(seed=10, max_len=10000, m=10e8+1, A=23, C=0):\n",
    "    X = np.zeros(max_len)\n",
    "    R = np.zeros(max_len)\n",
    "    X[0] = seed\n",
    "    R[0] = X[0] / m\n",
    "    for n in range(1, max_len):\n",
    "        X[n] = (A * X[n-1] + C) % m\n",
    "        R[n] = X[n] / m\n",
    "    return R"
   ]
  },
  {
   "cell_type": "code",
   "execution_count": 101,
   "metadata": {},
   "outputs": [],
   "source": [
    "arr = lehmer()"
   ]
  },
  {
   "cell_type": "code",
   "execution_count": 167,
   "metadata": {},
   "outputs": [],
   "source": [
    "arr3 = []\n",
    "arr4 = []\n",
    "for j in [10**(-k) for k in [0, 1,2,3,4]]:\n",
    "    arr2 = []\n",
    "    for i in arr:\n",
    "        if i < j:\n",
    "            arr2.append(i)\n",
    "    arr3.append(np.average(arr2)* (1/j))\n",
    "    arr4.append(np.average(arr2))\n",
    "    "
   ]
  },
  {
   "cell_type": "code",
   "execution_count": 168,
   "metadata": {},
   "outputs": [
    {
     "data": {
      "text/plain": [
       "[0.501048999967351,\n",
       " 0.4895408288069416,\n",
       " 0.465237501304674,\n",
       " 0.43855929367908775,\n",
       " 0.018433333314899998]"
      ]
     },
     "execution_count": 168,
     "metadata": {},
     "output_type": "execute_result"
    }
   ],
   "source": [
    "arr3 # Expect to have 0.5 in every one --> not random"
   ]
  },
  {
   "cell_type": "code",
   "execution_count": 169,
   "metadata": {},
   "outputs": [
    {
     "data": {
      "text/plain": [
       "[0.501048999967351,\n",
       " 0.04895408288069416,\n",
       " 0.00465237501304674,\n",
       " 0.00043855929367908776,\n",
       " 1.84333333149e-06]"
      ]
     },
     "execution_count": 169,
     "metadata": {},
     "output_type": "execute_result"
    }
   ],
   "source": [
    "arr4"
   ]
  },
  {
   "cell_type": "code",
   "execution_count": null,
   "metadata": {},
   "outputs": [],
   "source": []
  }
 ],
 "metadata": {
  "kernelspec": {
   "display_name": "Python 3",
   "language": "python",
   "name": "python3"
  },
  "language_info": {
   "codemirror_mode": {
    "name": "ipython",
    "version": 3
   },
   "file_extension": ".py",
   "mimetype": "text/x-python",
   "name": "python",
   "nbconvert_exporter": "python",
   "pygments_lexer": "ipython3",
   "version": "3.7.1"
  }
 },
 "nbformat": 4,
 "nbformat_minor": 2
}
